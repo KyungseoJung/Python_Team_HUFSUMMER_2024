{
 "cells": [
  {
   "cell_type": "code",
   "execution_count": 3,
   "metadata": {},
   "outputs": [],
   "source": [
    "from datetime import datetime\n",
    "import requests\n",
    "import json\n",
    "import pandas as pd\n",
    "import numpy as np"
   ]
  },
  {
   "cell_type": "code",
   "execution_count": 80,
   "metadata": {},
   "outputs": [
    {
     "name": "stdout",
     "output_type": "stream",
     "text": [
      "202406282255\n",
      "체감 온도는 20.48°C 입니다.None\n"
     ]
    }
   ],
   "source": [
    "\n",
    "# 현재 시간 불러오기\n",
    "def weather_now():\n",
    "    now = datetime.now()\n",
    "\n",
    "    # 원하는 형식으로 변환\n",
    "    formatted_time = now.strftime(\"%Y%m%d%H%M\")\n",
    "\n",
    "    print(formatted_time)\n",
    "    yyyyMMdd =formatted_time[:8]\n",
    "    HH = formatted_time[8:10]\n",
    "    HH_00 = int(HH)*100\n",
    "\n",
    "\n",
    "\n",
    "    url = 'http://apis.data.go.kr/1360000/VilageFcstInfoService_2.0/getUltraSrtNcst'\n",
    "    params = {\n",
    "        'serviceKey': 'Jh8gMjcJB2/c87a9lWgb0/uxDLf0pk756QwV8p0Rcu5ySVrZZLV0Y43KoesUbUTPD/+ZDXBp/amEtbhM7ZYquw==',\n",
    "        'pageNo': '1',\n",
    "        'numOfRows': '1000',\n",
    "        'dataType': 'JSON',\n",
    "        'base_date': f'{yyyyMMdd}',\n",
    "        'base_time': f'{HH_00}',\n",
    "        'nx': '55', \n",
    "        'ny': '127'\n",
    "    }\n",
    "\n",
    "    response = requests.get(url, params=params)\n",
    "    text_content = response.content.decode('utf-8')\n",
    "\n",
    "    # JSON 문자열을 파싱하여 딕셔너리로 변환\n",
    "    data = json.loads(text_content)\n",
    "\n",
    "    # 필요한 데이터 추출\n",
    "    items = data[\"response\"][\"body\"][\"items\"][\"item\"]\n",
    "\n",
    "    # 데이터 프레임으로 변환\n",
    "    df = pd.DataFrame(items)\n",
    "\n",
    "    # 데이터 프레임 출력\n",
    "    RH = float(df[df['category']=='REH']['obsrValue'])\n",
    "    TA = float(df[df['category']=='T1H']['obsrValue'])\n",
    "    return RH,TA\n",
    "\n",
    "def cal_water(kg, coffee, ex, ex_hour):\n",
    "    if ex_hour > 0:\n",
    "        print(\"운동 2시간 전에 물 섭취\")\n",
    "    ex_list = {'걷기': 0.9,'빨리걷기':1.2,'달리기': 2,\n",
    "        '계단오르기': 1.6,'자전거' :1.8,'줄넘기': 2.6,'등산': 1.5,\n",
    "        '수영': 2.0,'에어로빅': 1.5,'체조': 1,'테니스': 1.9,'스케이트': 1.8,\n",
    "        '스키': 1.6,'권투': 2.4,'농구': 2.1,'배구': 1,'축구': 2.5}\n",
    "    \n",
    "    lost_weight_w = ex_list[ex]*(1/15)*ex_hour\n",
    "\n",
    "    coffee_w =  coffee*2*300\n",
    "    base_w = kg*30\n",
    "\n",
    "    return (lost_weight_w + coffee_w +base_w)/200\n",
    "\n",
    "\n",
    "def celsius_to_fahrenheit(celsius):\n",
    "    return (celsius * 9/5) + 32\n",
    "\n",
    "def heat_index(T, R):\n",
    "    # 상수 정의\n",
    "    c1 = -42.379\n",
    "    c2 = 2.04901523\n",
    "    c3 = 10.14333127\n",
    "    c4 = -0.22475541\n",
    "    c5 = -0.00683783\n",
    "    c6 = -0.05481717\n",
    "    c7 = 0.00122874\n",
    "    c8 = 0.00085282\n",
    "    c9 = -0.00000199\n",
    "    \n",
    "    HI = (c1 + (c2 * T) + (c3 * R) + (c4 * T * R) + \n",
    "          (c5 * T**2) + (c6 * R**2) + \n",
    "          (c7 * T**2 * R) + (c8 * T * R**2) + \n",
    "          (c9 * T**2 * R**2))\n",
    "    return HI\n",
    "\n",
    "def calculate_heat_index(celsius, humidity):\n",
    "    fahrenheit = celsius_to_fahrenheit(celsius)\n",
    "    hi_fahrenheit = heat_index(fahrenheit, humidity)\n",
    "    hi_celsius = (hi_fahrenheit - 32) * 5/9\n",
    "    return hi_celsius\n",
    "\n",
    "# 예제 사용법\n",
    "RH,TA = weather_now()\n",
    "\n",
    "hi = calculate_heat_index(TA, RH)\n",
    "\n",
    "if hi > 31:\n",
    "    duration = \"20 분\"\n",
    "elif hi > 35:\n",
    "    duration = \"15 분\"\n",
    "else:\n",
    "    duration = None\n",
    "\n",
    "print(f\"체감 온도는 {hi:.2f}°C 입니다.\\n{duration}\")\n"
   ]
  },
  {
   "cell_type": "code",
   "execution_count": 81,
   "metadata": {},
   "outputs": [
    {
     "name": "stdout",
     "output_type": "stream",
     "text": [
      "운동 2시간 전에 물 섭취\n"
     ]
    },
    {
     "data": {
      "text/plain": [
       "18.009"
      ]
     },
     "execution_count": 81,
     "metadata": {},
     "output_type": "execute_result"
    }
   ],
   "source": [
    "cal_water(80, 2, \"걷기\", 30)"
   ]
  }
 ],
 "metadata": {
  "kernelspec": {
   "display_name": "base",
   "language": "python",
   "name": "python3"
  },
  "language_info": {
   "codemirror_mode": {
    "name": "ipython",
    "version": 3
   },
   "file_extension": ".py",
   "mimetype": "text/x-python",
   "name": "python",
   "nbconvert_exporter": "python",
   "pygments_lexer": "ipython3",
   "version": "3.7.6"
  }
 },
 "nbformat": 4,
 "nbformat_minor": 2
}
