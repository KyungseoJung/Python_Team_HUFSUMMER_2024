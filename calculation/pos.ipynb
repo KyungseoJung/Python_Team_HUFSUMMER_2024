{
 "cells": [
  {
   "cell_type": "code",
   "execution_count": null,
   "metadata": {},
   "outputs": [],
   "source": [
    "var ClientOrderLocation = new Tmapv3.LatLng(\n",
    "    servicePosLat,\n",
    "    servicePosLng\n",
    "); // #34 고객의 주문 위치 데이터"
   ]
  }
 ],
 "metadata": {
  "language_info": {
   "name": "python"
  }
 },
 "nbformat": 4,
 "nbformat_minor": 2
}
